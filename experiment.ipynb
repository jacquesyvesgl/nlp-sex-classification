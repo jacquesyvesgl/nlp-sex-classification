{
 "cells": [
  {
   "cell_type": "code",
   "execution_count": 1,
   "metadata": {},
   "outputs": [],
   "source": [
    "import torch"
   ]
  },
  {
   "cell_type": "code",
   "execution_count": 2,
   "metadata": {},
   "outputs": [],
   "source": [
    "# hyperparameters\n",
    "batch_size = 16\n",
    "block_size = 40 # A ajuster en fonction de la longueur max de l'input\n",
    "learning_rate = 1e-3\n",
    "device = 'cuda' if torch.cuda.is_available() else 'cpu'\n",
    "n_embd = 64\n",
    "n_head = 8\n",
    "dropout = 0.2"
   ]
  },
  {
   "cell_type": "markdown",
   "metadata": {},
   "source": [
    "## Data preparation\n",
    "\n",
    "Cette section comporte des travaux pour obtenir des un dataset composé de séquence de token.\n",
    "\n",
    "On choisit pour ce premier essai de tokeniser à chaque lettre."
   ]
  },
  {
   "cell_type": "code",
   "execution_count": 8,
   "metadata": {},
   "outputs": [],
   "source": [
    "import pandas as pd"
   ]
  },
  {
   "cell_type": "code",
   "execution_count": 9,
   "metadata": {},
   "outputs": [
    {
     "data": {
      "text/html": [
       "<div>\n",
       "<style scoped>\n",
       "    .dataframe tbody tr th:only-of-type {\n",
       "        vertical-align: middle;\n",
       "    }\n",
       "\n",
       "    .dataframe tbody tr th {\n",
       "        vertical-align: top;\n",
       "    }\n",
       "\n",
       "    .dataframe thead th {\n",
       "        text-align: right;\n",
       "    }\n",
       "</style>\n",
       "<table border=\"1\" class=\"dataframe\">\n",
       "  <thead>\n",
       "    <tr style=\"text-align: right;\">\n",
       "      <th></th>\n",
       "      <th>surname</th>\n",
       "      <th>firstname</th>\n",
       "      <th>occupation</th>\n",
       "      <th>link</th>\n",
       "      <th>age</th>\n",
       "      <th>sex</th>\n",
       "    </tr>\n",
       "  </thead>\n",
       "  <tbody>\n",
       "    <tr>\n",
       "      <th>0</th>\n",
       "      <td>chardon</td>\n",
       "      <td>marie</td>\n",
       "      <td>idem</td>\n",
       "      <td>fille</td>\n",
       "      <td>30.0</td>\n",
       "      <td>femme</td>\n",
       "    </tr>\n",
       "    <tr>\n",
       "      <th>1</th>\n",
       "      <td>lhopital</td>\n",
       "      <td>louis-jean</td>\n",
       "      <td>sp</td>\n",
       "      <td>chef</td>\n",
       "      <td>67.0</td>\n",
       "      <td>homme</td>\n",
       "    </tr>\n",
       "    <tr>\n",
       "      <th>2</th>\n",
       "      <td>papin</td>\n",
       "      <td>marie</td>\n",
       "      <td>idem</td>\n",
       "      <td>idem</td>\n",
       "      <td>15.0</td>\n",
       "      <td>femme</td>\n",
       "    </tr>\n",
       "    <tr>\n",
       "      <th>3</th>\n",
       "      <td>lavocat</td>\n",
       "      <td>marie</td>\n",
       "      <td>NaN</td>\n",
       "      <td>femme</td>\n",
       "      <td>NaN</td>\n",
       "      <td>femme</td>\n",
       "    </tr>\n",
       "    <tr>\n",
       "      <th>4</th>\n",
       "      <td>benne</td>\n",
       "      <td>marguerite</td>\n",
       "      <td>NaN</td>\n",
       "      <td>NaN</td>\n",
       "      <td>78.0</td>\n",
       "      <td>femme</td>\n",
       "    </tr>\n",
       "  </tbody>\n",
       "</table>\n",
       "</div>"
      ],
      "text/plain": [
       "    surname   firstname occupation   link   age    sex\n",
       "0   chardon       marie       idem  fille  30.0  femme\n",
       "1  lhopital  louis-jean         sp   chef  67.0  homme\n",
       "2     papin       marie       idem   idem  15.0  femme\n",
       "3   lavocat       marie        NaN  femme   NaN  femme\n",
       "4     benne  marguerite        NaN    NaN  78.0  femme"
      ]
     },
     "execution_count": 9,
     "metadata": {},
     "output_type": "execute_result"
    }
   ],
   "source": [
    "data = pd.read_csv(\"data.csv\")\n",
    "data.head()"
   ]
  },
  {
   "cell_type": "code",
   "execution_count": 10,
   "metadata": {},
   "outputs": [
    {
     "data": {
      "text/html": [
       "<div>\n",
       "<style scoped>\n",
       "    .dataframe tbody tr th:only-of-type {\n",
       "        vertical-align: middle;\n",
       "    }\n",
       "\n",
       "    .dataframe tbody tr th {\n",
       "        vertical-align: top;\n",
       "    }\n",
       "\n",
       "    .dataframe thead th {\n",
       "        text-align: right;\n",
       "    }\n",
       "</style>\n",
       "<table border=\"1\" class=\"dataframe\">\n",
       "  <thead>\n",
       "    <tr style=\"text-align: right;\">\n",
       "      <th></th>\n",
       "      <th>surname</th>\n",
       "      <th>firstname</th>\n",
       "      <th>occupation</th>\n",
       "      <th>link</th>\n",
       "      <th>age</th>\n",
       "      <th>sex</th>\n",
       "    </tr>\n",
       "  </thead>\n",
       "  <tbody>\n",
       "    <tr>\n",
       "      <th>0</th>\n",
       "      <td>chardon</td>\n",
       "      <td>marie</td>\n",
       "      <td>idem</td>\n",
       "      <td>fille</td>\n",
       "      <td>30.0</td>\n",
       "      <td>femme</td>\n",
       "    </tr>\n",
       "    <tr>\n",
       "      <th>1</th>\n",
       "      <td>lhopital</td>\n",
       "      <td>louis-jean</td>\n",
       "      <td>sp</td>\n",
       "      <td>chef</td>\n",
       "      <td>67.0</td>\n",
       "      <td>homme</td>\n",
       "    </tr>\n",
       "    <tr>\n",
       "      <th>2</th>\n",
       "      <td>papin</td>\n",
       "      <td>marie</td>\n",
       "      <td>idem</td>\n",
       "      <td>idem</td>\n",
       "      <td>15.0</td>\n",
       "      <td>femme</td>\n",
       "    </tr>\n",
       "    <tr>\n",
       "      <th>3</th>\n",
       "      <td>lavocat</td>\n",
       "      <td>marie</td>\n",
       "      <td></td>\n",
       "      <td>femme</td>\n",
       "      <td></td>\n",
       "      <td>femme</td>\n",
       "    </tr>\n",
       "    <tr>\n",
       "      <th>4</th>\n",
       "      <td>benne</td>\n",
       "      <td>marguerite</td>\n",
       "      <td></td>\n",
       "      <td></td>\n",
       "      <td>78.0</td>\n",
       "      <td>femme</td>\n",
       "    </tr>\n",
       "  </tbody>\n",
       "</table>\n",
       "</div>"
      ],
      "text/plain": [
       "    surname   firstname occupation   link   age    sex\n",
       "0   chardon       marie       idem  fille  30.0  femme\n",
       "1  lhopital  louis-jean         sp   chef  67.0  homme\n",
       "2     papin       marie       idem   idem  15.0  femme\n",
       "3   lavocat       marie             femme        femme\n",
       "4     benne  marguerite                    78.0  femme"
      ]
     },
     "execution_count": 10,
     "metadata": {},
     "output_type": "execute_result"
    }
   ],
   "source": [
    "data = data.fillna('')\n",
    "data[\"age\"] = data[\"age\"].astype(str)\n",
    "data.head()"
   ]
  },
  {
   "cell_type": "code",
   "execution_count": 11,
   "metadata": {},
   "outputs": [
    {
     "data": {
      "text/html": [
       "<div>\n",
       "<style scoped>\n",
       "    .dataframe tbody tr th:only-of-type {\n",
       "        vertical-align: middle;\n",
       "    }\n",
       "\n",
       "    .dataframe tbody tr th {\n",
       "        vertical-align: top;\n",
       "    }\n",
       "\n",
       "    .dataframe thead th {\n",
       "        text-align: right;\n",
       "    }\n",
       "</style>\n",
       "<table border=\"1\" class=\"dataframe\">\n",
       "  <thead>\n",
       "    <tr style=\"text-align: right;\">\n",
       "      <th></th>\n",
       "      <th>surname</th>\n",
       "      <th>firstname</th>\n",
       "      <th>occupation</th>\n",
       "      <th>link</th>\n",
       "      <th>age</th>\n",
       "      <th>sex</th>\n",
       "      <th>record</th>\n",
       "      <th>sex_binary</th>\n",
       "    </tr>\n",
       "  </thead>\n",
       "  <tbody>\n",
       "    <tr>\n",
       "      <th>0</th>\n",
       "      <td>chardon</td>\n",
       "      <td>marie</td>\n",
       "      <td>idem</td>\n",
       "      <td>fille</td>\n",
       "      <td>30.0</td>\n",
       "      <td>femme</td>\n",
       "      <td>marie,idem,fille,30.0</td>\n",
       "      <td>1</td>\n",
       "    </tr>\n",
       "    <tr>\n",
       "      <th>1</th>\n",
       "      <td>lhopital</td>\n",
       "      <td>louis-jean</td>\n",
       "      <td>sp</td>\n",
       "      <td>chef</td>\n",
       "      <td>67.0</td>\n",
       "      <td>homme</td>\n",
       "      <td>louis-jean,sp,chef,67.0</td>\n",
       "      <td>0</td>\n",
       "    </tr>\n",
       "    <tr>\n",
       "      <th>2</th>\n",
       "      <td>papin</td>\n",
       "      <td>marie</td>\n",
       "      <td>idem</td>\n",
       "      <td>idem</td>\n",
       "      <td>15.0</td>\n",
       "      <td>femme</td>\n",
       "      <td>marie,idem,idem,15.0</td>\n",
       "      <td>1</td>\n",
       "    </tr>\n",
       "    <tr>\n",
       "      <th>3</th>\n",
       "      <td>lavocat</td>\n",
       "      <td>marie</td>\n",
       "      <td></td>\n",
       "      <td>femme</td>\n",
       "      <td></td>\n",
       "      <td>femme</td>\n",
       "      <td>marie,,femme,</td>\n",
       "      <td>1</td>\n",
       "    </tr>\n",
       "    <tr>\n",
       "      <th>4</th>\n",
       "      <td>benne</td>\n",
       "      <td>marguerite</td>\n",
       "      <td></td>\n",
       "      <td></td>\n",
       "      <td>78.0</td>\n",
       "      <td>femme</td>\n",
       "      <td>marguerite,,,78.0</td>\n",
       "      <td>1</td>\n",
       "    </tr>\n",
       "  </tbody>\n",
       "</table>\n",
       "</div>"
      ],
      "text/plain": [
       "    surname   firstname occupation   link   age    sex  \\\n",
       "0   chardon       marie       idem  fille  30.0  femme   \n",
       "1  lhopital  louis-jean         sp   chef  67.0  homme   \n",
       "2     papin       marie       idem   idem  15.0  femme   \n",
       "3   lavocat       marie             femme        femme   \n",
       "4     benne  marguerite                    78.0  femme   \n",
       "\n",
       "                    record  sex_binary  \n",
       "0    marie,idem,fille,30.0           1  \n",
       "1  louis-jean,sp,chef,67.0           0  \n",
       "2     marie,idem,idem,15.0           1  \n",
       "3            marie,,femme,           1  \n",
       "4        marguerite,,,78.0           1  "
      ]
     },
     "execution_count": 11,
     "metadata": {},
     "output_type": "execute_result"
    }
   ],
   "source": [
    "# data[\"record\"] = data[\"surname\"] + ',' + data[\"firstname\"] + ',' + data[\"occupation\"] + ',' + data[\"link\"] + ',' + data[\"age\"]\n",
    "data[\"record\"] = data[\"firstname\"] + ',' + data[\"occupation\"] + ',' + data[\"link\"] + ',' + data[\"age\"]\n",
    "data[\"sex_binary\"] = data[\"sex\"].apply(lambda x: 1 if x == \"femme\" else 0)\n",
    "data.head()"
   ]
  },
  {
   "cell_type": "code",
   "execution_count": 8,
   "metadata": {},
   "outputs": [
    {
     "data": {
      "text/plain": [
       "37"
      ]
     },
     "execution_count": 8,
     "metadata": {},
     "output_type": "execute_result"
    }
   ],
   "source": [
    "data[\"record\"].apply(lambda s: len(s)).max()"
   ]
  },
  {
   "cell_type": "code",
   "execution_count": 8,
   "metadata": {},
   "outputs": [],
   "source": [
    "with open(\"data.csv\", 'r', encoding='utf-8') as f:\n",
    "    text = f.read()"
   ]
  },
  {
   "cell_type": "code",
   "execution_count": 9,
   "metadata": {},
   "outputs": [],
   "source": [
    "chars = [\" \"] + sorted(list(set(text)))\n",
    "vocab_size = len(chars)"
   ]
  },
  {
   "cell_type": "code",
   "execution_count": 10,
   "metadata": {},
   "outputs": [],
   "source": [
    "stoi = { ch:i for i,ch in enumerate(chars) }\n",
    "itos = { i:ch for i,ch in enumerate(chars) }\n",
    "encode = lambda s: [stoi[c] for c in s] # encoder: take a string, output a list of integers\n",
    "decode = lambda l: ''.join([itos[i] for i in l]) # decoder: take a list of integers, output a string\n"
   ]
  },
  {
   "cell_type": "code",
   "execution_count": 11,
   "metadata": {},
   "outputs": [
    {
     "data": {
      "text/html": [
       "<div>\n",
       "<style scoped>\n",
       "    .dataframe tbody tr th:only-of-type {\n",
       "        vertical-align: middle;\n",
       "    }\n",
       "\n",
       "    .dataframe tbody tr th {\n",
       "        vertical-align: top;\n",
       "    }\n",
       "\n",
       "    .dataframe thead th {\n",
       "        text-align: right;\n",
       "    }\n",
       "</style>\n",
       "<table border=\"1\" class=\"dataframe\">\n",
       "  <thead>\n",
       "    <tr style=\"text-align: right;\">\n",
       "      <th></th>\n",
       "      <th>surname</th>\n",
       "      <th>firstname</th>\n",
       "      <th>occupation</th>\n",
       "      <th>link</th>\n",
       "      <th>age</th>\n",
       "      <th>sex</th>\n",
       "      <th>record</th>\n",
       "      <th>sex_binary</th>\n",
       "      <th>encoded</th>\n",
       "    </tr>\n",
       "  </thead>\n",
       "  <tbody>\n",
       "    <tr>\n",
       "      <th>0</th>\n",
       "      <td>chardon</td>\n",
       "      <td>marie</td>\n",
       "      <td>idem</td>\n",
       "      <td>fille</td>\n",
       "      <td>30.0</td>\n",
       "      <td>femme</td>\n",
       "      <td>chardon,marie,idem,fille,30.0</td>\n",
       "      <td>1</td>\n",
       "      <td>[17, 22, 15, 32, 18, 29, 28, 2, 27, 15, 32, 23...</td>\n",
       "    </tr>\n",
       "    <tr>\n",
       "      <th>1</th>\n",
       "      <td>lhopital</td>\n",
       "      <td>louis-jean</td>\n",
       "      <td>sp</td>\n",
       "      <td>chef</td>\n",
       "      <td>67.0</td>\n",
       "      <td>homme</td>\n",
       "      <td>lhopital,louis-jean,sp,chef,67.0</td>\n",
       "      <td>0</td>\n",
       "      <td>[26, 22, 29, 30, 23, 34, 15, 26, 2, 26, 29, 35...</td>\n",
       "    </tr>\n",
       "    <tr>\n",
       "      <th>2</th>\n",
       "      <td>papin</td>\n",
       "      <td>marie</td>\n",
       "      <td>idem</td>\n",
       "      <td>idem</td>\n",
       "      <td>15.0</td>\n",
       "      <td>femme</td>\n",
       "      <td>papin,marie,idem,idem,15.0</td>\n",
       "      <td>1</td>\n",
       "      <td>[30, 15, 30, 23, 28, 2, 27, 15, 32, 23, 19, 2,...</td>\n",
       "    </tr>\n",
       "    <tr>\n",
       "      <th>3</th>\n",
       "      <td>lavocat</td>\n",
       "      <td>marie</td>\n",
       "      <td></td>\n",
       "      <td>femme</td>\n",
       "      <td></td>\n",
       "      <td>femme</td>\n",
       "      <td>lavocat,marie,,femme,</td>\n",
       "      <td>1</td>\n",
       "      <td>[26, 15, 36, 29, 17, 15, 34, 2, 27, 15, 32, 23...</td>\n",
       "    </tr>\n",
       "    <tr>\n",
       "      <th>4</th>\n",
       "      <td>benne</td>\n",
       "      <td>marguerite</td>\n",
       "      <td></td>\n",
       "      <td></td>\n",
       "      <td>78.0</td>\n",
       "      <td>femme</td>\n",
       "      <td>benne,marguerite,,,78.0</td>\n",
       "      <td>1</td>\n",
       "      <td>[16, 19, 28, 28, 19, 2, 27, 15, 32, 21, 35, 19...</td>\n",
       "    </tr>\n",
       "  </tbody>\n",
       "</table>\n",
       "</div>"
      ],
      "text/plain": [
       "    surname   firstname occupation   link   age    sex  \\\n",
       "0   chardon       marie       idem  fille  30.0  femme   \n",
       "1  lhopital  louis-jean         sp   chef  67.0  homme   \n",
       "2     papin       marie       idem   idem  15.0  femme   \n",
       "3   lavocat       marie             femme        femme   \n",
       "4     benne  marguerite                    78.0  femme   \n",
       "\n",
       "                             record  sex_binary  \\\n",
       "0     chardon,marie,idem,fille,30.0           1   \n",
       "1  lhopital,louis-jean,sp,chef,67.0           0   \n",
       "2        papin,marie,idem,idem,15.0           1   \n",
       "3             lavocat,marie,,femme,           1   \n",
       "4           benne,marguerite,,,78.0           1   \n",
       "\n",
       "                                             encoded  \n",
       "0  [17, 22, 15, 32, 18, 29, 28, 2, 27, 15, 32, 23...  \n",
       "1  [26, 22, 29, 30, 23, 34, 15, 26, 2, 26, 29, 35...  \n",
       "2  [30, 15, 30, 23, 28, 2, 27, 15, 32, 23, 19, 2,...  \n",
       "3  [26, 15, 36, 29, 17, 15, 34, 2, 27, 15, 32, 23...  \n",
       "4  [16, 19, 28, 28, 19, 2, 27, 15, 32, 21, 35, 19...  "
      ]
     },
     "execution_count": 11,
     "metadata": {},
     "output_type": "execute_result"
    }
   ],
   "source": [
    "data[\"encoded\"] = data[\"record\"].apply(encode)\n",
    "data.head()"
   ]
  },
  {
   "cell_type": "code",
   "execution_count": 12,
   "metadata": {},
   "outputs": [],
   "source": [
    "data[\"padded_encoded\"] = data[\"encoded\"].apply(lambda seq: seq + [0] * (block_size - len(seq)))"
   ]
  },
  {
   "cell_type": "code",
   "execution_count": 13,
   "metadata": {},
   "outputs": [],
   "source": [
    "n_train = int(0.9 * len(data))\n",
    "x_train = torch.tensor(data[\"padded_encoded\"][:n_train].to_list(),dtype=torch.long)\n",
    "y_train = torch.tensor(data[\"sex_binary\"][:n_train].to_list())\n",
    "x_val = torch.tensor(data[\"padded_encoded\"][n_train:].to_list(), dtype=torch.long)\n",
    "y_val = torch.tensor(data[\"sex_binary\"][n_train:].to_list())"
   ]
  },
  {
   "cell_type": "code",
   "execution_count": 14,
   "metadata": {},
   "outputs": [
    {
     "data": {
      "text/plain": [
       "torch.Size([216, 44])"
      ]
     },
     "execution_count": 14,
     "metadata": {},
     "output_type": "execute_result"
    }
   ],
   "source": [
    "x_train.shape"
   ]
  },
  {
   "cell_type": "code",
   "execution_count": 15,
   "metadata": {},
   "outputs": [
    {
     "data": {
      "text/plain": [
       "tensor([0, 1, 0, 1, 0, 1, 0, 0, 0, 0, 0, 0, 0, 1, 0, 1, 0, 0, 0, 1, 1, 0, 1, 0,\n",
       "        1])"
      ]
     },
     "execution_count": 15,
     "metadata": {},
     "output_type": "execute_result"
    }
   ],
   "source": [
    "y_val"
   ]
  },
  {
   "cell_type": "code",
   "execution_count": 16,
   "metadata": {},
   "outputs": [],
   "source": [
    "def get_batch(split):\n",
    "    # generate a small batch of data of inputs x and targets y\n",
    "    x_data, y_data = (x_train, y_train) if split == 'train' else (x_val, y_val)\n",
    "    ix = torch.randint(len(x_data), (batch_size,))\n",
    "    x = x_data[ix]\n",
    "    y = y_data[ix]\n",
    "    x, y = x.to(device), y.to(device)\n",
    "    return x, y"
   ]
  },
  {
   "cell_type": "code",
   "execution_count": 17,
   "metadata": {},
   "outputs": [
    {
     "data": {
      "text/plain": [
       "(torch.Size([16, 44]), torch.Size([16]))"
      ]
     },
     "execution_count": 17,
     "metadata": {},
     "output_type": "execute_result"
    }
   ],
   "source": [
    "x, y = get_batch(\"train\")\n",
    "x.shape, y.shape"
   ]
  },
  {
   "cell_type": "markdown",
   "metadata": {},
   "source": [
    "## Wrapping everything in custom Dataset and Dataloader objetcs\n",
    "\n",
    "On reprend les travaux de la section précédente, sauf que cette fois-ci on englobe le tout dans des objets Dataset et Dataloader de PyTorch."
   ]
  },
  {
   "cell_type": "code",
   "execution_count": 3,
   "metadata": {},
   "outputs": [],
   "source": [
    "from torch.utils.data import Dataset\n",
    "from torch.utils.data import DataLoader\n",
    "import pandas as pd"
   ]
  },
  {
   "cell_type": "code",
   "execution_count": 4,
   "metadata": {},
   "outputs": [],
   "source": [
    "with open(\"data.csv\", 'r', encoding='utf-8') as f:\n",
    "    text = f.read()\n",
    "\n",
    "chars = [\" \"] + sorted(list(set(text)))\n",
    "vocab_size = len(chars)\n",
    "\n",
    "stoi = { ch:i for i,ch in enumerate(chars) }\n",
    "itos = { i:ch for i,ch in enumerate(chars) }\n",
    "encode = lambda s: [stoi[c] for c in s] # encoder: take a string, output a list of integers\n",
    "decode = lambda l: ''.join([itos[i] for i in l]) # decoder: take a list of integers, output a string\n",
    "\n",
    "\n",
    "class CensusDataset(Dataset):\n",
    "    def __init__(self, file_path, train: bool, device):\n",
    "        data = pd.read_csv(\"data.csv\")\n",
    "        data = data.fillna('')\n",
    "        data[\"age\"] = data[\"age\"].astype(str)\n",
    "        # data[\"record\"] = data[\"surname\"] + ',' + data[\"firstname\"] + ',' + data[\"occupation\"] + ',' + data[\"link\"] + ',' + data[\"age\"]\n",
    "        data[\"record\"] = data[\"firstname\"] + ',' + data[\"occupation\"] + ',' + data[\"link\"] + ',' + data[\"age\"]\n",
    "        data[\"sex_binary\"] = data[\"sex\"].apply(lambda x: 1 if x == \"femme\" else 0)\n",
    "        data[\"encoded\"] = data[\"record\"].apply(encode)\n",
    "        data[\"padded_encoded\"] = data[\"encoded\"].apply(lambda seq: seq + [0] * (block_size - len(seq)))\n",
    "\n",
    "        n_train = int(0.9 * len(data))\n",
    "        if train:\n",
    "            self.sequences = torch.tensor(data[\"padded_encoded\"][:n_train].to_list(), dtype=torch.long).to(device)\n",
    "            self.sexes = torch.tensor(data[\"sex_binary\"][:n_train].to_list(),dtype=torch.long).to(device)\n",
    "        else:\n",
    "            self.sequences = torch.tensor(data[\"padded_encoded\"][n_train:].to_list(), dtype=torch.long).to(device)\n",
    "            self.sexes = torch.tensor(data[\"sex_binary\"][n_train:].to_list(),dtype=torch.long).to(device)\n",
    "    \n",
    "    def __len__(self):\n",
    "        return len(self.sequences)\n",
    "\n",
    "    def __getitem__(self, idx):\n",
    "        return self.sequences[idx], self.sexes[idx]\n"
   ]
  },
  {
   "cell_type": "code",
   "execution_count": 6,
   "metadata": {},
   "outputs": [
    {
     "data": {
      "text/plain": [
       "47"
      ]
     },
     "execution_count": 6,
     "metadata": {},
     "output_type": "execute_result"
    }
   ],
   "source": [
    "vocab_size"
   ]
  },
  {
   "cell_type": "code",
   "execution_count": 7,
   "metadata": {},
   "outputs": [],
   "source": [
    "training_data = CensusDataset(\"data.csv\", True, device)\n",
    "test_data = CensusDataset(\"data.csv\", False, device)"
   ]
  },
  {
   "cell_type": "code",
   "execution_count": 8,
   "metadata": {},
   "outputs": [],
   "source": [
    "train_dataloader = DataLoader(training_data, batch_size=16, shuffle=True)\n",
    "test_dataloader = DataLoader(test_data, batch_size=16, shuffle=True)"
   ]
  },
  {
   "cell_type": "markdown",
   "metadata": {},
   "source": [
    "## Basic solution\n",
    "\n",
    "On essaye juste une solution simple qui consiste pour un prénom donné à tirer le sexe :  \n",
    "\n",
    "- soit de façon binaire en tirant 0 si la fréquence que le prénom soit donné à un homme est <= 0.5, 1 sinon ;\n",
    "- soit selon une Bernoulli de paramètre la fréquence que le prénom soit donné à un homme."
   ]
  },
  {
   "cell_type": "code",
   "execution_count": 9,
   "metadata": {},
   "outputs": [],
   "source": [
    "import pandas as pd"
   ]
  },
  {
   "cell_type": "code",
   "execution_count": 10,
   "metadata": {},
   "outputs": [
    {
     "data": {
      "text/html": [
       "<div>\n",
       "<style scoped>\n",
       "    .dataframe tbody tr th:only-of-type {\n",
       "        vertical-align: middle;\n",
       "    }\n",
       "\n",
       "    .dataframe tbody tr th {\n",
       "        vertical-align: top;\n",
       "    }\n",
       "\n",
       "    .dataframe thead th {\n",
       "        text-align: right;\n",
       "    }\n",
       "</style>\n",
       "<table border=\"1\" class=\"dataframe\">\n",
       "  <thead>\n",
       "    <tr style=\"text-align: right;\">\n",
       "      <th></th>\n",
       "      <th>firstname</th>\n",
       "      <th>male</th>\n",
       "      <th>female</th>\n",
       "    </tr>\n",
       "  </thead>\n",
       "  <tbody>\n",
       "    <tr>\n",
       "      <th>0</th>\n",
       "      <td>marie</td>\n",
       "      <td>10145</td>\n",
       "      <td>2390322</td>\n",
       "    </tr>\n",
       "    <tr>\n",
       "      <th>1</th>\n",
       "      <td>jean</td>\n",
       "      <td>1869615</td>\n",
       "      <td>6476</td>\n",
       "    </tr>\n",
       "    <tr>\n",
       "      <th>2</th>\n",
       "      <td>pierre</td>\n",
       "      <td>1475841</td>\n",
       "      <td>5047</td>\n",
       "    </tr>\n",
       "    <tr>\n",
       "      <th>3</th>\n",
       "      <td>jeanne</td>\n",
       "      <td>1765</td>\n",
       "      <td>1097397</td>\n",
       "    </tr>\n",
       "    <tr>\n",
       "      <th>4</th>\n",
       "      <td>françois</td>\n",
       "      <td>1089009</td>\n",
       "      <td>5951</td>\n",
       "    </tr>\n",
       "  </tbody>\n",
       "</table>\n",
       "</div>"
      ],
      "text/plain": [
       "  firstname     male   female\n",
       "0     marie    10145  2390322\n",
       "1      jean  1869615     6476\n",
       "2    pierre  1475841     5047\n",
       "3    jeanne     1765  1097397\n",
       "4  françois  1089009     5951"
      ]
     },
     "execution_count": 10,
     "metadata": {},
     "output_type": "execute_result"
    }
   ],
   "source": [
    "firstname_with_sex = pd.read_csv(\"firstname_with_sex.csv\", sep=';')\n",
    "firstname_with_sex.head()"
   ]
  },
  {
   "cell_type": "code",
   "execution_count": 11,
   "metadata": {},
   "outputs": [
    {
     "data": {
      "text/html": [
       "<div>\n",
       "<style scoped>\n",
       "    .dataframe tbody tr th:only-of-type {\n",
       "        vertical-align: middle;\n",
       "    }\n",
       "\n",
       "    .dataframe tbody tr th {\n",
       "        vertical-align: top;\n",
       "    }\n",
       "\n",
       "    .dataframe thead th {\n",
       "        text-align: right;\n",
       "    }\n",
       "</style>\n",
       "<table border=\"1\" class=\"dataframe\">\n",
       "  <thead>\n",
       "    <tr style=\"text-align: right;\">\n",
       "      <th></th>\n",
       "      <th>firstname</th>\n",
       "      <th>male</th>\n",
       "      <th>female</th>\n",
       "      <th>frequency</th>\n",
       "    </tr>\n",
       "  </thead>\n",
       "  <tbody>\n",
       "    <tr>\n",
       "      <th>0</th>\n",
       "      <td>marie</td>\n",
       "      <td>10145</td>\n",
       "      <td>2390322</td>\n",
       "      <td>0.995774</td>\n",
       "    </tr>\n",
       "    <tr>\n",
       "      <th>1</th>\n",
       "      <td>jean</td>\n",
       "      <td>1869615</td>\n",
       "      <td>6476</td>\n",
       "      <td>0.003452</td>\n",
       "    </tr>\n",
       "    <tr>\n",
       "      <th>2</th>\n",
       "      <td>pierre</td>\n",
       "      <td>1475841</td>\n",
       "      <td>5047</td>\n",
       "      <td>0.003408</td>\n",
       "    </tr>\n",
       "    <tr>\n",
       "      <th>3</th>\n",
       "      <td>jeanne</td>\n",
       "      <td>1765</td>\n",
       "      <td>1097397</td>\n",
       "      <td>0.998394</td>\n",
       "    </tr>\n",
       "    <tr>\n",
       "      <th>4</th>\n",
       "      <td>françois</td>\n",
       "      <td>1089009</td>\n",
       "      <td>5951</td>\n",
       "      <td>0.005435</td>\n",
       "    </tr>\n",
       "  </tbody>\n",
       "</table>\n",
       "</div>"
      ],
      "text/plain": [
       "  firstname     male   female  frequency\n",
       "0     marie    10145  2390322   0.995774\n",
       "1      jean  1869615     6476   0.003452\n",
       "2    pierre  1475841     5047   0.003408\n",
       "3    jeanne     1765  1097397   0.998394\n",
       "4  françois  1089009     5951   0.005435"
      ]
     },
     "execution_count": 11,
     "metadata": {},
     "output_type": "execute_result"
    }
   ],
   "source": [
    "firstname_with_sex[\"frequency\"] = firstname_with_sex[\"female\"] / (firstname_with_sex[\"female\"] + firstname_with_sex[\"male\"])\n",
    "firstname_with_sex.head()"
   ]
  },
  {
   "cell_type": "code",
   "execution_count": 12,
   "metadata": {},
   "outputs": [
    {
     "data": {
      "text/plain": [
       "0.3184849409405919"
      ]
     },
     "execution_count": 12,
     "metadata": {},
     "output_type": "execute_result"
    }
   ],
   "source": [
    "female_frequency = {}\n",
    "\n",
    "for _, row in firstname_with_sex.iterrows():\n",
    "    female_frequency[row[\"firstname\"]] = row[\"frequency\"]\n",
    "\n",
    "female_frequency[\"camille\"]"
   ]
  },
  {
   "cell_type": "code",
   "execution_count": 14,
   "metadata": {},
   "outputs": [],
   "source": [
    "import torch.nn as nn\n",
    "\n",
    "class SimpleDeterministicModel(nn.Module):\n",
    "    def __init__(self, female_frequency: dict):\n",
    "        super().__init__()\n",
    "        self.female_frequency = female_frequency\n",
    "\n",
    "    def get_frequency(self, prenom):\n",
    "        if prenom in self.female_frequency:\n",
    "            return self.female_frequency[prenom]\n",
    "        else:\n",
    "            return 0.5\n",
    "\n",
    "    def forward(self, X):\n",
    "        X_decoded = [decode(seq.tolist()) for seq in X]\n",
    "        prenoms = [seq.split(',')[0] for seq in X_decoded]\n",
    "        preds = [int(self.get_frequency(prenom) > 0.5) for prenom in prenoms]\n",
    "        return torch.tensor(preds, device=device)"
   ]
  },
  {
   "cell_type": "code",
   "execution_count": 15,
   "metadata": {},
   "outputs": [],
   "source": [
    "determ_model = SimpleDeterministicModel(female_frequency)"
   ]
  },
  {
   "cell_type": "code",
   "execution_count": 18,
   "metadata": {},
   "outputs": [],
   "source": [
    "def simple_model_test_loop(dataloader, model, print_accuracy=True):\n",
    "    \"\"\"\n",
    "    A test loop for the deterministic and stochastic simple models\n",
    "    Won't work with the neural net defined in the next section.\n",
    "    \"\"\"\n",
    "\n",
    "    size = len(dataloader.dataset)\n",
    "    num_batches = len(dataloader)\n",
    "    correct = 0\n",
    "\n",
    "    with torch.no_grad():\n",
    "        for X, y in dataloader:\n",
    "            preds = model(X)\n",
    "            correct += (preds == y).type(torch.float).sum().item()\n",
    "\n",
    "    correct /= size\n",
    "    accuracy = 100*correct\n",
    "\n",
    "    return accuracy"
   ]
  },
  {
   "cell_type": "code",
   "execution_count": 19,
   "metadata": {},
   "outputs": [
    {
     "data": {
      "text/plain": [
       "96.0"
      ]
     },
     "execution_count": 19,
     "metadata": {},
     "output_type": "execute_result"
    }
   ],
   "source": [
    "simple_model_test_loop(test_dataloader, determ_model)"
   ]
  },
  {
   "cell_type": "markdown",
   "metadata": {},
   "source": [
    "Le modèle déterministe obtient 96% de précision sur le jeu de test...\n",
    "\n",
    "Ca va être difficile à battre."
   ]
  },
  {
   "cell_type": "code",
   "execution_count": 58,
   "metadata": {},
   "outputs": [],
   "source": [
    "from torcheval.metrics import BinaryF1Score, BinaryAccuracy\n",
    "\n",
    "def simple_get_f1_score(simple_model, dataloader):\n",
    "    f1_score = BinaryF1Score()\n",
    "    accuracy = BinaryAccuracy()\n",
    "\n",
    "    for data, target in dataloader:\n",
    "        pred = simple_model(data)\n",
    "        f1_score.update(pred, target)\n",
    "        accuracy.update(pred, target)\n",
    "\n",
    "    return {\n",
    "        \"f1_score\": f1_score.compute().item(),\n",
    "        \"accuracy\": accuracy.compute().item(),\n",
    "    }"
   ]
  },
  {
   "cell_type": "code",
   "execution_count": 59,
   "metadata": {},
   "outputs": [
    {
     "data": {
      "text/plain": [
       "{'f1_score': 0.9411765336990356, 'accuracy': 0.9599999785423279}"
      ]
     },
     "execution_count": 59,
     "metadata": {},
     "output_type": "execute_result"
    }
   ],
   "source": [
    "simple_get_f1_score(determ_model, test_dataloader)"
   ]
  },
  {
   "cell_type": "code",
   "execution_count": 20,
   "metadata": {},
   "outputs": [
    {
     "data": {
      "text/plain": [
       "97.68518518518519"
      ]
     },
     "execution_count": 20,
     "metadata": {},
     "output_type": "execute_result"
    }
   ],
   "source": [
    "simple_model_test_loop(train_dataloader, determ_model)"
   ]
  },
  {
   "cell_type": "code",
   "execution_count": 21,
   "metadata": {},
   "outputs": [
    {
     "name": "stdout",
     "output_type": "stream",
     "text": [
      "Précision sur l'ensemble des données : 97.51%\n"
     ]
    }
   ],
   "source": [
    "mean_accuracy = (simple_model_test_loop(test_dataloader, determ_model) * len(test_dataloader.dataset) + simple_model_test_loop(train_dataloader, determ_model) * len(train_dataloader.dataset)) / (len(train_dataloader.dataset) + len(test_dataloader.dataset))\n",
    "\n",
    "print(f\"Précision sur l'ensemble des données : {mean_accuracy:.2f}%\")"
   ]
  },
  {
   "cell_type": "code",
   "execution_count": 31,
   "metadata": {},
   "outputs": [],
   "source": [
    "class SimpleStochasticModel(nn.Module):\n",
    "    def __init__(self, female_frequency: dict):\n",
    "        super().__init__()\n",
    "        self.female_frequency = female_frequency\n",
    "\n",
    "    def get_frequency(self, prenom):\n",
    "        if prenom in self.female_frequency:\n",
    "            return int(torch.rand(1).item() < self.female_frequency[prenom])\n",
    "        else:\n",
    "            return 0.5\n",
    "\n",
    "    def forward(self, X):\n",
    "        X_decoded = [decode(seq.tolist()) for seq in X]\n",
    "        prenoms = [seq.split(',')[0] for seq in X_decoded]\n",
    "        preds = [int(self.get_frequency(prenom) > 0.5) for prenom in prenoms]\n",
    "        return torch.tensor(preds, device=device)"
   ]
  },
  {
   "cell_type": "code",
   "execution_count": 32,
   "metadata": {},
   "outputs": [],
   "source": [
    "stoch_model = SimpleStochasticModel(female_frequency)"
   ]
  },
  {
   "cell_type": "code",
   "execution_count": 33,
   "metadata": {},
   "outputs": [
    {
     "name": "stdout",
     "output_type": "stream",
     "text": [
      "Accuracy moyenne sur le jeu de test: 98.32%\n"
     ]
    }
   ],
   "source": [
    "mean_test_accuracy = 0\n",
    "\n",
    "for _ in range(100):\n",
    "    mean_test_accuracy += simple_model_test_loop(test_dataloader, stoch_model)\n",
    "\n",
    "mean_test_accuracy /= 100\n",
    "\n",
    "print(f\"Accuracy moyenne sur le jeu de test: {mean_test_accuracy}%\")"
   ]
  },
  {
   "cell_type": "markdown",
   "metadata": {},
   "source": [
    "Le modèle stochastique obtient 98.8% de précision en moyenne sur le jeu de test. C'est aussi très difficile à battre."
   ]
  },
  {
   "cell_type": "code",
   "execution_count": 34,
   "metadata": {},
   "outputs": [
    {
     "name": "stdout",
     "output_type": "stream",
     "text": [
      "Accuracy moyenne sur le jeu de train: 93.60648148148147%\n"
     ]
    }
   ],
   "source": [
    "mean_train_accuracy = 0\n",
    "\n",
    "for _ in range(100):\n",
    "    mean_train_accuracy += simple_model_test_loop(train_dataloader, stoch_model)\n",
    "\n",
    "mean_train_accuracy /= 100\n",
    "\n",
    "print(f\"Accuracy moyenne sur le jeu de train: {mean_train_accuracy}%\")"
   ]
  },
  {
   "cell_type": "markdown",
   "metadata": {},
   "source": [
    "## Model construction\n",
    "\n",
    "On essaye maintenant, pour s'amuser, de construire un classifier à base d'encoder Transformer.\n",
    "\n",
    "On doute déjà qu'on aura sûrment de moins bonnes performances que les \"modèles\" simples précédent, mais il s'agit de faire quelque chose..."
   ]
  },
  {
   "cell_type": "code",
   "execution_count": 60,
   "metadata": {},
   "outputs": [],
   "source": [
    "import torch.nn as nn\n",
    "from torch.nn import functional as F"
   ]
  },
  {
   "cell_type": "code",
   "execution_count": 61,
   "metadata": {},
   "outputs": [
    {
     "data": {
      "text/plain": [
       "<torch._C.Generator at 0x7fd5abf08470>"
      ]
     },
     "execution_count": 61,
     "metadata": {},
     "output_type": "execute_result"
    }
   ],
   "source": [
    "torch.manual_seed(1337)"
   ]
  },
  {
   "cell_type": "code",
   "execution_count": 62,
   "metadata": {},
   "outputs": [],
   "source": [
    "class Head(nn.Module):\n",
    "    \"\"\"Scaled self-attention head without mask\"\"\"\n",
    "\n",
    "    def __init__(self, head_size):\n",
    "        super().__init__()\n",
    "        self.key = nn.Linear(in_features=n_embd, out_features=head_size, bias=False)\n",
    "        self.query = nn.Linear(in_features=n_embd, out_features=head_size, bias=False)\n",
    "        self.value = nn.Linear(in_features=n_embd, out_features=head_size, bias=False)\n",
    "        self.head_size = head_size\n",
    "        self.dropout = nn.Dropout(dropout)\n",
    "\n",
    "    def forward (self, x):\n",
    "        B, T, C = x.shape\n",
    "        k = self.key(x)\n",
    "        q = self.query(x)\n",
    "        v = self.value(x)\n",
    "        attention = q @ k.transpose(1, 2) / (self.head_size ** 0.5)\n",
    "        attention = F.softmax(attention, dim=-1)\n",
    "        attention = self.dropout(attention)\n",
    "\n",
    "        out = attention @ v\n",
    "        return out"
   ]
  },
  {
   "cell_type": "code",
   "execution_count": 63,
   "metadata": {},
   "outputs": [],
   "source": [
    "class MultiHeadAttention(nn.Module):\n",
    "    \"\"\" multiple heads of self-attention in parallel \"\"\"\n",
    "\n",
    "    def __init__(self, num_heads, head_size):\n",
    "        super().__init__()\n",
    "        self.heads = nn.ModuleList([Head(head_size) for _ in range(num_heads)])\n",
    "        self.linear = nn.Linear(n_embd, n_embd)\n",
    "        \n",
    "    def forward(self, x):\n",
    "        out = torch.cat([h(x) for h in self.heads], dim=-1)\n",
    "        out = self.linear(out)\n",
    "\n",
    "        return out"
   ]
  },
  {
   "cell_type": "code",
   "execution_count": 64,
   "metadata": {},
   "outputs": [],
   "source": [
    "class FeedForward(nn.Module):\n",
    "    \"\"\" a simple MLP with RELU \"\"\"\n",
    "\n",
    "    def __init__(self, n_embd):\n",
    "        super().__init__()\n",
    "        self.l1 = nn.Linear(n_embd, 4*n_embd)\n",
    "        self.relu = nn.ReLU()\n",
    "        self.l2 = nn.Linear(4*n_embd, n_embd)\n",
    "\n",
    "    def forward(self, x):\n",
    "        out = self.l1(x)\n",
    "        out = self.relu(out)\n",
    "        out = self.l2(out)\n",
    "\n",
    "        return out"
   ]
  },
  {
   "cell_type": "code",
   "execution_count": 65,
   "metadata": {},
   "outputs": [],
   "source": [
    "class Block(nn.Module):\n",
    "    \"\"\" A single block of multi-head attention \"\"\"\n",
    "\n",
    "    def __init__(self, n_embd, n_head):\n",
    "        super().__init__()\n",
    "        head_size = n_embd // n_head\n",
    "        self.ln1 = nn.LayerNorm(n_embd)\n",
    "        self.mha = MultiHeadAttention(n_head, head_size)\n",
    "        self.ln2 = nn.LayerNorm(n_embd)\n",
    "        self.ffwd = FeedForward(n_embd)        \n",
    "\n",
    "    def forward(self, x):\n",
    "        out = x + self.mha(self.ln1(x))\n",
    "        out = out + self.ffwd(self.ln2(out))\n",
    "\n",
    "        return out"
   ]
  },
  {
   "cell_type": "code",
   "execution_count": 66,
   "metadata": {},
   "outputs": [],
   "source": [
    "class SimpleTransformerClassifier(nn.Module):\n",
    "    \"\"\" A simple Transformer-based text classifier \"\"\"\n",
    "\n",
    "    def __init__(self, n_blocks, n_classes):\n",
    "        super().__init__()\n",
    "        self.token_embedding_table = nn.Embedding(vocab_size, n_embd) # (size of dictionary, size of vectors)\n",
    "        self.position_embedding_table = nn.Embedding(block_size, n_embd)\n",
    "        self.attention_blocks = nn.ModuleList([Block(n_embd, n_head) for _ in range(n_blocks)])\n",
    "        if n_classes <= 2:\n",
    "            # Binary classification\n",
    "            self.classifier = nn.Linear(n_embd, 1) # (C, 1) Binary classifier\n",
    "        else:\n",
    "            self.classifier = nn.Linear(n_embd, n_classes) # (C, n_classes)\n",
    "\n",
    "\n",
    "    def forward(self, idx):\n",
    "        B, T = idx.shape\n",
    "        tok_emb = self.token_embedding_table(idx) # (B,T,C)\n",
    "        pos_emb = self.position_embedding_table(torch.arange(T, device=device)) # (T,C)\n",
    "        x = tok_emb + pos_emb # (B,T,C)\n",
    "\n",
    "        for block in self.attention_blocks:\n",
    "            x = block(x) # (B, T, C)\n",
    "\n",
    "        x = x.mean(dim=1) # (B, C)\n",
    "\n",
    "        logits = self.classifier(x) # (B, n_classes)\n",
    "\n",
    "        return logits"
   ]
  },
  {
   "cell_type": "code",
   "execution_count": 154,
   "metadata": {},
   "outputs": [
    {
     "name": "stdout",
     "output_type": "stream",
     "text": [
      "Total number of parameters: 304385\n"
     ]
    }
   ],
   "source": [
    "model = SimpleTransformerClassifier(6, 2).to(device)\n",
    "\n",
    "total_params = sum(p.numel() for p in model.parameters())\n",
    "print(\"Total number of parameters:\", total_params)"
   ]
  },
  {
   "cell_type": "markdown",
   "metadata": {},
   "source": [
    "## Optimization Loop"
   ]
  },
  {
   "cell_type": "code",
   "execution_count": 155,
   "metadata": {},
   "outputs": [],
   "source": [
    "def train_loop(dataloader, model, loss_fn, optimizer):\n",
    "    \"\"\" Train the model once across all data (ie do one epoch)\"\"\"\n",
    "\n",
    "    model.train()\n",
    "    size = len(dataloader.dataset)\n",
    "    num_batches = len(dataloader)\n",
    "    train_loss = 0\n",
    "\n",
    "    for batch, (X, y) in enumerate(dataloader):\n",
    "        # Compute prediction and loss\n",
    "        logits = model(X)\n",
    "        loss = loss_fn(logits.squeeze(), y.float())\n",
    "        train_loss += loss.item()\n",
    "\n",
    "        # Backpropagation\n",
    "        optimizer.zero_grad()\n",
    "        loss.backward()\n",
    "        optimizer.step()\n",
    "\n",
    "        if batch % 5 == 0 or batch*batch_size + len(X) == size:\n",
    "            loss, current = loss.item(), batch*batch_size + len(X)\n",
    "            print(f\"loss: {loss:>7f}  [{current:>5d}/{size:>5d}]\")\n",
    "\n",
    "    \n",
    "    train_loss /= num_batches\n",
    "\n",
    "    return train_loss\n",
    "\n",
    "\n",
    "def test_loop(dataloader, model, loss_fn):\n",
    "\n",
    "    model.eval()\n",
    "    size = len(dataloader.dataset)\n",
    "    num_batches = len(dataloader)\n",
    "    test_loss, correct = 0, 0\n",
    "\n",
    "    with torch.no_grad():\n",
    "        for X, y in dataloader:\n",
    "            logits = model(X)\n",
    "            test_loss += loss_fn(logits.squeeze(), y.float()).item()\n",
    "\n",
    "            probs = nn.Sigmoid()(logits.squeeze())\n",
    "            pred = (probs > 0.5).int()\n",
    "            correct += (pred == y).type(torch.float).sum().item()\n",
    "\n",
    "    test_loss /= num_batches\n",
    "    correct /= size\n",
    "    accuracy = 100*correct\n",
    "\n",
    "    print(f\"Test Error: \\n Accuracy: {(accuracy):>0.1f}%, Avg loss: {test_loss:>8f} \\n\")\n",
    "\n",
    "    return test_loss, accuracy"
   ]
  },
  {
   "cell_type": "code",
   "execution_count": 156,
   "metadata": {},
   "outputs": [],
   "source": [
    "from copy import deepcopy"
   ]
  },
  {
   "cell_type": "code",
   "execution_count": 157,
   "metadata": {},
   "outputs": [
    {
     "name": "stdout",
     "output_type": "stream",
     "text": [
      "Epoch 1\n",
      "-------------------------------\n",
      "loss: 0.695578  [   16/  216]\n",
      "loss: 0.876078  [   96/  216]\n",
      "loss: 0.681584  [  176/  216]\n",
      "loss: 0.840230  [  216/  216]\n",
      "Test Error: \n",
      " Accuracy: 64.0%, Avg loss: 0.659958 \n",
      "\n",
      "New best accuracy: 64.0% > 0.0%\n",
      "\n",
      "Epoch 2\n",
      "-------------------------------\n",
      "loss: 0.740958  [   16/  216]\n",
      "loss: 0.674697  [   96/  216]\n",
      "loss: 0.665639  [  176/  216]\n",
      "loss: 0.652996  [  216/  216]\n",
      "Test Error: \n",
      " Accuracy: 64.0%, Avg loss: 0.622385 \n",
      "\n",
      "Epoch 3\n",
      "-------------------------------\n",
      "loss: 0.628830  [   16/  216]\n",
      "loss: 0.708387  [   96/  216]\n",
      "loss: 0.616632  [  176/  216]\n",
      "loss: 0.636901  [  216/  216]\n",
      "Test Error: \n",
      " Accuracy: 64.0%, Avg loss: 0.625562 \n",
      "\n",
      "Epoch 4\n",
      "-------------------------------\n",
      "loss: 0.664995  [   16/  216]\n",
      "loss: 0.598313  [   96/  216]\n",
      "loss: 0.686137  [  176/  216]\n",
      "loss: 0.639211  [  216/  216]\n",
      "Test Error: \n",
      " Accuracy: 80.0%, Avg loss: 0.454528 \n",
      "\n",
      "New best accuracy: 80.0% > 64.0%\n",
      "\n",
      "Epoch 5\n",
      "-------------------------------\n",
      "loss: 0.519430  [   16/  216]\n",
      "loss: 0.421460  [   96/  216]\n",
      "loss: 0.427513  [  176/  216]\n",
      "loss: 0.347964  [  216/  216]\n",
      "Test Error: \n",
      " Accuracy: 84.0%, Avg loss: 0.412504 \n",
      "\n",
      "New best accuracy: 84.0% > 80.0%\n",
      "\n",
      "Epoch 6\n",
      "-------------------------------\n",
      "loss: 0.164475  [   16/  216]\n",
      "loss: 0.298197  [   96/  216]\n",
      "loss: 0.328572  [  176/  216]\n",
      "loss: 0.320132  [  216/  216]\n",
      "Test Error: \n",
      " Accuracy: 92.0%, Avg loss: 0.356157 \n",
      "\n",
      "New best accuracy: 92.0% > 84.0%\n",
      "\n",
      "Epoch 7\n",
      "-------------------------------\n",
      "loss: 0.356928  [   16/  216]\n",
      "loss: 0.419976  [   96/  216]\n",
      "loss: 0.525241  [  176/  216]\n",
      "loss: 0.128812  [  216/  216]\n",
      "Test Error: \n",
      " Accuracy: 76.0%, Avg loss: 0.544716 \n",
      "\n",
      "Epoch 8\n",
      "-------------------------------\n",
      "loss: 0.513968  [   16/  216]\n",
      "loss: 0.027830  [   96/  216]\n",
      "loss: 0.384842  [  176/  216]\n",
      "loss: 0.364338  [  216/  216]\n",
      "Test Error: \n",
      " Accuracy: 80.0%, Avg loss: 0.337273 \n",
      "\n",
      "Epoch 9\n",
      "-------------------------------\n",
      "loss: 0.271737  [   16/  216]\n",
      "loss: 0.142854  [   96/  216]\n",
      "loss: 0.169546  [  176/  216]\n",
      "loss: 0.357380  [  216/  216]\n",
      "Test Error: \n",
      " Accuracy: 88.0%, Avg loss: 0.374295 \n",
      "\n",
      "Epoch 10\n",
      "-------------------------------\n",
      "loss: 0.158102  [   16/  216]\n",
      "loss: 0.265086  [   96/  216]\n",
      "loss: 0.200955  [  176/  216]\n",
      "loss: 0.042643  [  216/  216]\n",
      "Test Error: \n",
      " Accuracy: 80.0%, Avg loss: 0.399181 \n",
      "\n",
      "Epoch 11\n",
      "-------------------------------\n",
      "loss: 0.156261  [   16/  216]\n",
      "loss: 0.048651  [   96/  216]\n",
      "loss: 0.087697  [  176/  216]\n",
      "loss: 0.085447  [  216/  216]\n",
      "Test Error: \n",
      " Accuracy: 84.0%, Avg loss: 0.772415 \n",
      "\n",
      "Epoch 12\n",
      "-------------------------------\n",
      "loss: 0.206903  [   16/  216]\n",
      "loss: 0.070364  [   96/  216]\n",
      "loss: 0.112743  [  176/  216]\n",
      "loss: 0.038538  [  216/  216]\n",
      "Test Error: \n",
      " Accuracy: 80.0%, Avg loss: 0.370974 \n",
      "\n",
      "Epoch 13\n",
      "-------------------------------\n",
      "loss: 0.150087  [   16/  216]\n",
      "loss: 0.189270  [   96/  216]\n",
      "loss: 0.036740  [  176/  216]\n",
      "loss: 0.203190  [  216/  216]\n",
      "Test Error: \n",
      " Accuracy: 80.0%, Avg loss: 0.383086 \n",
      "\n",
      "Epoch 14\n",
      "-------------------------------\n",
      "loss: 0.027430  [   16/  216]\n",
      "loss: 0.025824  [   96/  216]\n",
      "loss: 0.182858  [  176/  216]\n",
      "loss: 0.075835  [  216/  216]\n",
      "Test Error: \n",
      " Accuracy: 80.0%, Avg loss: 0.470356 \n",
      "\n",
      "Epoch 15\n",
      "-------------------------------\n",
      "loss: 0.018498  [   16/  216]\n",
      "loss: 0.252169  [   96/  216]\n",
      "loss: 0.110898  [  176/  216]\n",
      "loss: 0.012425  [  216/  216]\n",
      "Test Error: \n",
      " Accuracy: 80.0%, Avg loss: 0.676357 \n",
      "\n",
      "Epoch 16\n",
      "-------------------------------\n",
      "loss: 0.049224  [   16/  216]\n",
      "loss: 0.065384  [   96/  216]\n",
      "loss: 0.061750  [  176/  216]\n",
      "loss: 0.000968  [  216/  216]\n",
      "Test Error: \n",
      " Accuracy: 80.0%, Avg loss: 0.751634 \n",
      "\n",
      "Epoch 17\n",
      "-------------------------------\n",
      "loss: 0.003094  [   16/  216]\n",
      "loss: 0.002126  [   96/  216]\n",
      "loss: 0.048562  [  176/  216]\n",
      "loss: 0.032892  [  216/  216]\n",
      "Test Error: \n",
      " Accuracy: 80.0%, Avg loss: 0.839560 \n",
      "\n",
      "Epoch 18\n",
      "-------------------------------\n",
      "loss: 0.009927  [   16/  216]\n",
      "loss: 0.000817  [   96/  216]\n",
      "loss: 0.000529  [  176/  216]\n",
      "loss: 0.000313  [  216/  216]\n",
      "Test Error: \n",
      " Accuracy: 80.0%, Avg loss: 1.176493 \n",
      "\n",
      "Epoch 19\n",
      "-------------------------------\n",
      "loss: 0.000542  [   16/  216]\n",
      "loss: 0.025458  [   96/  216]\n",
      "loss: 0.000263  [  176/  216]\n",
      "loss: 0.000593  [  216/  216]\n",
      "Test Error: \n",
      " Accuracy: 80.0%, Avg loss: 1.343854 \n",
      "\n",
      "Epoch 20\n",
      "-------------------------------\n",
      "loss: 0.000296  [   16/  216]\n",
      "loss: 0.000259  [   96/  216]\n",
      "loss: 0.015193  [  176/  216]\n",
      "loss: 0.001760  [  216/  216]\n",
      "Test Error: \n",
      " Accuracy: 80.0%, Avg loss: 0.888729 \n",
      "\n",
      "Epoch 21\n",
      "-------------------------------\n",
      "loss: 0.001165  [   16/  216]\n",
      "loss: 0.001764  [   96/  216]\n",
      "loss: 0.000291  [  176/  216]\n",
      "loss: 0.000146  [  216/  216]\n",
      "Test Error: \n",
      " Accuracy: 80.0%, Avg loss: 1.377518 \n",
      "\n",
      "Epoch 22\n",
      "-------------------------------\n",
      "loss: 0.001780  [   16/  216]\n",
      "loss: 0.000055  [   96/  216]\n",
      "loss: 0.000177  [  176/  216]\n",
      "loss: 0.000573  [  216/  216]\n",
      "Test Error: \n",
      " Accuracy: 80.0%, Avg loss: 1.197754 \n",
      "\n",
      "Epoch 23\n",
      "-------------------------------\n",
      "loss: 0.000662  [   16/  216]\n",
      "loss: 0.000289  [   96/  216]\n",
      "loss: 0.022354  [  176/  216]\n",
      "loss: 0.000478  [  216/  216]\n",
      "Test Error: \n",
      " Accuracy: 80.0%, Avg loss: 1.407462 \n",
      "\n",
      "Epoch 24\n",
      "-------------------------------\n",
      "loss: 0.000064  [   16/  216]\n",
      "loss: 0.004117  [   96/  216]\n",
      "loss: 0.000224  [  176/  216]\n",
      "loss: 0.000038  [  216/  216]\n",
      "Test Error: \n",
      " Accuracy: 80.0%, Avg loss: 1.224270 \n",
      "\n",
      "Epoch 25\n",
      "-------------------------------\n",
      "loss: 0.000042  [   16/  216]\n",
      "loss: 0.000092  [   96/  216]\n",
      "loss: 0.002339  [  176/  216]\n",
      "loss: 0.000063  [  216/  216]\n",
      "Test Error: \n",
      " Accuracy: 80.0%, Avg loss: 1.378877 \n",
      "\n",
      "Epoch 26\n",
      "-------------------------------\n",
      "loss: 0.000081  [   16/  216]\n",
      "loss: 0.000025  [   96/  216]\n",
      "loss: 0.000216  [  176/  216]\n",
      "loss: 0.000659  [  216/  216]\n",
      "Test Error: \n",
      " Accuracy: 80.0%, Avg loss: 1.725465 \n",
      "\n",
      "Epoch 27\n",
      "-------------------------------\n",
      "loss: 0.003607  [   16/  216]\n",
      "loss: 0.000050  [   96/  216]\n",
      "loss: 0.000031  [  176/  216]\n",
      "loss: 0.000021  [  216/  216]\n",
      "Test Error: \n",
      " Accuracy: 80.0%, Avg loss: 1.600095 \n",
      "\n",
      "Epoch 28\n",
      "-------------------------------\n",
      "loss: 0.000122  [   16/  216]\n",
      "loss: 0.000152  [   96/  216]\n",
      "loss: 0.000019  [  176/  216]\n",
      "loss: 0.000116  [  216/  216]\n",
      "Test Error: \n",
      " Accuracy: 80.0%, Avg loss: 1.436742 \n",
      "\n",
      "Epoch 29\n",
      "-------------------------------\n",
      "loss: 0.000061  [   16/  216]\n",
      "loss: 0.000056  [   96/  216]\n",
      "loss: 0.000023  [  176/  216]\n",
      "loss: 0.000180  [  216/  216]\n",
      "Test Error: \n",
      " Accuracy: 80.0%, Avg loss: 1.300376 \n",
      "\n",
      "Epoch 30\n",
      "-------------------------------\n",
      "loss: 0.000040  [   16/  216]\n",
      "loss: 0.000365  [   96/  216]\n",
      "loss: 0.000028  [  176/  216]\n",
      "loss: 0.000186  [  216/  216]\n",
      "Test Error: \n",
      " Accuracy: 80.0%, Avg loss: 1.904555 \n",
      "\n",
      "Epoch 31\n",
      "-------------------------------\n",
      "loss: 0.000180  [   16/  216]\n",
      "loss: 0.000337  [   96/  216]\n",
      "loss: 0.000105  [  176/  216]\n",
      "loss: 0.000006  [  216/  216]\n",
      "Test Error: \n",
      " Accuracy: 80.0%, Avg loss: 1.416206 \n",
      "\n",
      "Epoch 32\n",
      "-------------------------------\n",
      "loss: 0.000133  [   16/  216]\n",
      "loss: 0.000050  [   96/  216]\n",
      "loss: 0.000136  [  176/  216]\n",
      "loss: 0.000017  [  216/  216]\n",
      "Test Error: \n",
      " Accuracy: 80.0%, Avg loss: 1.383605 \n",
      "\n",
      "Epoch 33\n",
      "-------------------------------\n",
      "loss: 0.000036  [   16/  216]\n",
      "loss: 0.000206  [   96/  216]\n",
      "loss: 0.000023  [  176/  216]\n",
      "loss: 0.000208  [  216/  216]\n",
      "Test Error: \n",
      " Accuracy: 80.0%, Avg loss: 1.504166 \n",
      "\n",
      "Epoch 34\n",
      "-------------------------------\n",
      "loss: 0.000014  [   16/  216]\n",
      "loss: 0.000123  [   96/  216]\n",
      "loss: 0.000103  [  176/  216]\n",
      "loss: 0.000008  [  216/  216]\n",
      "Test Error: \n",
      " Accuracy: 80.0%, Avg loss: 1.617734 \n",
      "\n",
      "Epoch 35\n",
      "-------------------------------\n",
      "loss: 0.000081  [   16/  216]\n",
      "loss: 0.000085  [   96/  216]\n",
      "loss: 0.000132  [  176/  216]\n",
      "loss: 0.000010  [  216/  216]\n",
      "Test Error: \n",
      " Accuracy: 80.0%, Avg loss: 1.445807 \n",
      "\n",
      "Epoch 36\n",
      "-------------------------------\n",
      "loss: 0.000148  [   16/  216]\n",
      "loss: 0.000041  [   96/  216]\n",
      "loss: 0.000215  [  176/  216]\n",
      "loss: 0.000119  [  216/  216]\n",
      "Test Error: \n",
      " Accuracy: 80.0%, Avg loss: 1.526877 \n",
      "\n",
      "Epoch 37\n",
      "-------------------------------\n",
      "loss: 0.000002  [   16/  216]\n",
      "loss: 0.000029  [   96/  216]\n",
      "loss: 0.000025  [  176/  216]\n",
      "loss: 0.000018  [  216/  216]\n",
      "Test Error: \n",
      " Accuracy: 80.0%, Avg loss: 1.609620 \n",
      "\n",
      "Epoch 38\n",
      "-------------------------------\n",
      "loss: 0.000018  [   16/  216]\n",
      "loss: 0.000057  [   96/  216]\n",
      "loss: 0.000095  [  176/  216]\n",
      "loss: 0.000055  [  216/  216]\n",
      "Test Error: \n",
      " Accuracy: 80.0%, Avg loss: 1.734806 \n",
      "\n",
      "Epoch 39\n",
      "-------------------------------\n",
      "loss: 0.000073  [   16/  216]\n",
      "loss: 0.000076  [   96/  216]\n",
      "loss: 0.000052  [  176/  216]\n",
      "loss: 0.000522  [  216/  216]\n",
      "Test Error: \n",
      " Accuracy: 80.0%, Avg loss: 1.185505 \n",
      "\n",
      "Epoch 40\n",
      "-------------------------------\n",
      "loss: 0.000003  [   16/  216]\n",
      "loss: 0.000273  [   96/  216]\n",
      "loss: 0.000060  [  176/  216]\n",
      "loss: 0.000100  [  216/  216]\n",
      "Test Error: \n",
      " Accuracy: 80.0%, Avg loss: 1.683126 \n",
      "\n",
      "Epoch 41\n",
      "-------------------------------\n",
      "loss: 0.000013  [   16/  216]\n",
      "loss: 0.000056  [   96/  216]\n",
      "loss: 0.000146  [  176/  216]\n",
      "loss: 0.000006  [  216/  216]\n",
      "Test Error: \n",
      " Accuracy: 80.0%, Avg loss: 1.603929 \n",
      "\n",
      "Epoch 42\n",
      "-------------------------------\n",
      "loss: 0.000161  [   16/  216]\n",
      "loss: 0.000003  [   96/  216]\n",
      "loss: 0.000012  [  176/  216]\n",
      "loss: 0.000009  [  216/  216]\n",
      "Test Error: \n",
      " Accuracy: 80.0%, Avg loss: 1.781841 \n",
      "\n",
      "Epoch 43\n",
      "-------------------------------\n",
      "loss: 0.000221  [   16/  216]\n",
      "loss: 0.000028  [   96/  216]\n",
      "loss: 0.000434  [  176/  216]\n",
      "loss: 0.000105  [  216/  216]\n",
      "Test Error: \n",
      " Accuracy: 80.0%, Avg loss: 1.867577 \n",
      "\n",
      "Epoch 44\n",
      "-------------------------------\n",
      "loss: 0.000064  [   16/  216]\n",
      "loss: 0.000027  [   96/  216]\n",
      "loss: 0.000079  [  176/  216]\n",
      "loss: 0.000025  [  216/  216]\n",
      "Test Error: \n",
      " Accuracy: 80.0%, Avg loss: 1.673368 \n",
      "\n",
      "Epoch 45\n",
      "-------------------------------\n",
      "loss: 0.000054  [   16/  216]\n",
      "loss: 0.000039  [   96/  216]\n",
      "loss: 0.000045  [  176/  216]\n",
      "loss: 0.000091  [  216/  216]\n",
      "Test Error: \n",
      " Accuracy: 80.0%, Avg loss: 1.429467 \n",
      "\n",
      "Epoch 46\n",
      "-------------------------------\n",
      "loss: 0.000032  [   16/  216]\n",
      "loss: 0.000220  [   96/  216]\n",
      "loss: 0.000009  [  176/  216]\n",
      "loss: 0.000006  [  216/  216]\n",
      "Test Error: \n",
      " Accuracy: 80.0%, Avg loss: 1.711749 \n",
      "\n",
      "Epoch 47\n",
      "-------------------------------\n",
      "loss: 0.000084  [   16/  216]\n",
      "loss: 0.000019  [   96/  216]\n",
      "loss: 0.000136  [  176/  216]\n",
      "loss: 0.000048  [  216/  216]\n",
      "Test Error: \n",
      " Accuracy: 80.0%, Avg loss: 1.823853 \n",
      "\n",
      "Epoch 48\n",
      "-------------------------------\n",
      "loss: 0.000034  [   16/  216]\n",
      "loss: 0.000005  [   96/  216]\n",
      "loss: 0.000087  [  176/  216]\n",
      "loss: 0.000002  [  216/  216]\n",
      "Test Error: \n",
      " Accuracy: 80.0%, Avg loss: 1.344613 \n",
      "\n",
      "Epoch 49\n",
      "-------------------------------\n",
      "loss: 0.000009  [   16/  216]\n",
      "loss: 0.000109  [   96/  216]\n",
      "loss: 0.000080  [  176/  216]\n",
      "loss: 0.000004  [  216/  216]\n",
      "Test Error: \n",
      " Accuracy: 80.0%, Avg loss: 1.725071 \n",
      "\n",
      "Epoch 50\n",
      "-------------------------------\n",
      "loss: 0.000042  [   16/  216]\n",
      "loss: 0.000111  [   96/  216]\n",
      "loss: 0.000016  [  176/  216]\n",
      "loss: 0.000025  [  216/  216]\n",
      "Test Error: \n",
      " Accuracy: 80.0%, Avg loss: 1.631202 \n",
      "\n",
      "Epoch 51\n",
      "-------------------------------\n",
      "loss: 0.000022  [   16/  216]\n",
      "loss: 0.000012  [   96/  216]\n",
      "loss: 0.000005  [  176/  216]\n",
      "loss: 0.000023  [  216/  216]\n",
      "Test Error: \n",
      " Accuracy: 80.0%, Avg loss: 1.750875 \n",
      "\n",
      "Epoch 52\n",
      "-------------------------------\n",
      "loss: 0.000013  [   16/  216]\n",
      "loss: 0.000093  [   96/  216]\n",
      "loss: 0.000006  [  176/  216]\n",
      "loss: 0.000048  [  216/  216]\n",
      "Test Error: \n",
      " Accuracy: 80.0%, Avg loss: 1.466800 \n",
      "\n",
      "Epoch 53\n",
      "-------------------------------\n",
      "loss: 0.000024  [   16/  216]\n",
      "loss: 0.000010  [   96/  216]\n",
      "loss: 0.000016  [  176/  216]\n",
      "loss: 0.000031  [  216/  216]\n",
      "Test Error: \n",
      " Accuracy: 80.0%, Avg loss: 1.824750 \n",
      "\n",
      "Epoch 54\n",
      "-------------------------------\n",
      "loss: 0.000021  [   16/  216]\n",
      "loss: 0.000188  [   96/  216]\n",
      "loss: 0.000030  [  176/  216]\n",
      "loss: 0.000009  [  216/  216]\n",
      "Test Error: \n",
      " Accuracy: 80.0%, Avg loss: 1.443986 \n",
      "\n",
      "Epoch 55\n",
      "-------------------------------\n",
      "loss: 0.000010  [   16/  216]\n",
      "loss: 0.000007  [   96/  216]\n",
      "loss: 0.000005  [  176/  216]\n",
      "loss: 0.000091  [  216/  216]\n",
      "Test Error: \n",
      " Accuracy: 80.0%, Avg loss: 1.735819 \n",
      "\n",
      "Epoch 56\n",
      "-------------------------------\n",
      "loss: 0.000002  [   16/  216]\n",
      "loss: 0.000014  [   96/  216]\n",
      "loss: 0.000010  [  176/  216]\n",
      "loss: 0.000004  [  216/  216]\n",
      "Test Error: \n",
      " Accuracy: 80.0%, Avg loss: 1.562144 \n",
      "\n",
      "Epoch 57\n",
      "-------------------------------\n",
      "loss: 0.000017  [   16/  216]\n",
      "loss: 0.000009  [   96/  216]\n",
      "loss: 0.000007  [  176/  216]\n",
      "loss: 0.000018  [  216/  216]\n",
      "Test Error: \n",
      " Accuracy: 80.0%, Avg loss: 1.745768 \n",
      "\n",
      "Epoch 58\n",
      "-------------------------------\n",
      "loss: 0.000032  [   16/  216]\n",
      "loss: 0.000001  [   96/  216]\n",
      "loss: 0.000106  [  176/  216]\n",
      "loss: 0.000015  [  216/  216]\n",
      "Test Error: \n",
      " Accuracy: 80.0%, Avg loss: 1.667382 \n",
      "\n",
      "Epoch 59\n",
      "-------------------------------\n",
      "loss: 0.000002  [   16/  216]\n",
      "loss: 0.000078  [   96/  216]\n",
      "loss: 0.000014  [  176/  216]\n",
      "loss: 0.000329  [  216/  216]\n",
      "Test Error: \n",
      " Accuracy: 80.0%, Avg loss: 1.284157 \n",
      "\n",
      "Epoch 60\n",
      "-------------------------------\n",
      "loss: 0.000004  [   16/  216]\n",
      "loss: 0.000064  [   96/  216]\n",
      "loss: 0.000002  [  176/  216]\n",
      "loss: 0.000027  [  216/  216]\n",
      "Test Error: \n",
      " Accuracy: 80.0%, Avg loss: 2.015733 \n",
      "\n",
      "Best model saved! \n",
      "> Best accuracy: 92.0%\n"
     ]
    }
   ],
   "source": [
    "loss_fn = nn.BCEWithLogitsLoss()\n",
    "optimizer = torch.optim.Adam(model.parameters(), lr=learning_rate)\n",
    "\n",
    "epochs = 60\n",
    "best_accuracy = 0.0\n",
    "best_model_state_dict = None\n",
    "\n",
    "train_losses = []\n",
    "test_losses = []\n",
    "\n",
    "for t in range(epochs):\n",
    "    print(f\"Epoch {t+1}\\n-------------------------------\")\n",
    "    train_loss = train_loop(train_dataloader, model, loss_fn, optimizer)\n",
    "    test_loss, test_accuracy = test_loop(test_dataloader, model, loss_fn)\n",
    "\n",
    "    train_losses.append(train_loss)\n",
    "    test_losses.append(test_loss)\n",
    "\n",
    "    if test_accuracy > best_accuracy:\n",
    "        print(f\"New best accuracy: {test_accuracy:>0.1f}% > {best_accuracy:>0.1f}%\\n\")\n",
    "        best_accuracy = test_accuracy\n",
    "        best_model_state_dict = deepcopy(model.state_dict()) # You need to deepcopy the state_dict !!\n",
    "\n",
    "torch.save(best_model_state_dict, 'best_model.pth')\n",
    "print(f\"Best model saved! \\n> Best accuracy: {best_accuracy:>0.1f}%\")"
   ]
  },
  {
   "cell_type": "markdown",
   "metadata": {},
   "source": [
    "## Explore the results"
   ]
  },
  {
   "cell_type": "code",
   "execution_count": 89,
   "metadata": {},
   "outputs": [
    {
     "data": {
      "text/plain": [
       "<All keys matched successfully>"
      ]
     },
     "execution_count": 89,
     "metadata": {},
     "output_type": "execute_result"
    }
   ],
   "source": [
    "model_state_dict = torch.load(\"best_model.pth\")\n",
    "\n",
    "model.load_state_dict(model_state_dict)"
   ]
  },
  {
   "cell_type": "code",
   "execution_count": 90,
   "metadata": {},
   "outputs": [],
   "source": [
    "model.eval()\n",
    "X, y = next(iter(test_dataloader))\n",
    "logits = model(X)"
   ]
  },
  {
   "cell_type": "code",
   "execution_count": 91,
   "metadata": {},
   "outputs": [
    {
     "data": {
      "text/plain": [
       "tensor([0.8549, 0.3580, 0.1699, 0.0557, 0.6537, 0.2906, 0.3510, 0.0629, 0.1964,\n",
       "        0.9405, 0.6623, 0.1279, 0.7516, 0.5266, 0.1764, 0.3198],\n",
       "       device='cuda:0', grad_fn=<SigmoidBackward0>)"
      ]
     },
     "execution_count": 91,
     "metadata": {},
     "output_type": "execute_result"
    }
   ],
   "source": [
    "probs = nn.Sigmoid()(logits.squeeze())\n",
    "probs"
   ]
  },
  {
   "cell_type": "code",
   "execution_count": 92,
   "metadata": {},
   "outputs": [
    {
     "data": {
      "text/plain": [
       "tensor([1, 0, 0, 0, 1, 0, 0, 0, 0, 1, 1, 0, 1, 1, 0, 0], device='cuda:0',\n",
       "       dtype=torch.int32)"
      ]
     },
     "execution_count": 92,
     "metadata": {},
     "output_type": "execute_result"
    }
   ],
   "source": [
    "binary = (probs > 0.5).int()\n",
    "binary"
   ]
  },
  {
   "cell_type": "code",
   "execution_count": 93,
   "metadata": {},
   "outputs": [
    {
     "data": {
      "text/plain": [
       "tensor([ True, False,  True,  True,  True,  True,  True,  True,  True,  True,\n",
       "         True,  True,  True,  True,  True,  True], device='cuda:0')"
      ]
     },
     "execution_count": 93,
     "metadata": {},
     "output_type": "execute_result"
    }
   ],
   "source": [
    "binary == y"
   ]
  },
  {
   "cell_type": "code",
   "execution_count": 95,
   "metadata": {},
   "outputs": [
    {
     "data": {
      "image/png": "[encoded data removed]",
      "text/plain": [
       "<Figure size 640x480 with 1 Axes>"
      ]
     },
     "metadata": {},
     "output_type": "display_data"
    }
   ],
   "source": [
    "import matplotlib.pyplot as plt\n",
    "\n",
    "plt.plot(train_losses, label=\"Train loss\")\n",
    "plt.plot(test_losses, label=\"Test loss\")\n",
    "plt.legend()\n",
    "\n",
    "plt.savefig(\"losses_plot.png\")"
   ]
  },
  {
   "cell_type": "code",
   "execution_count": 74,
   "metadata": {},
   "outputs": [
    {
     "data": {
      "text/plain": [
       "tensor([26, 44, 29, 28, 23, 19,  2, 33, 30,  2, 20, 23, 26, 26, 19,  2,  0,  0,\n",
       "         0,  0,  0,  0,  0,  0,  0,  0,  0,  0,  0,  0,  0,  0,  0,  0,  0,  0,\n",
       "         0,  0,  0,  0], device='cuda:0')"
      ]
     },
     "execution_count": 74,
     "metadata": {},
     "output_type": "execute_result"
    }
   ],
   "source": [
    "X, y = next(iter(train_dataloader))\n",
    "X[0]"
   ]
  },
  {
   "cell_type": "code",
   "execution_count": 144,
   "metadata": {},
   "outputs": [
    {
     "data": {
      "text/plain": [
       "tensor([[44, 26, 44, 29, 28, 29, 32, 19,  2, 16, 29, 35, 26, 15, 28, 21, 43, 32,\n",
       "         19,  2, 20, 23, 26, 26, 19,  2,  7, 10,  0,  0,  0,  0,  0,  0,  0,  0,\n",
       "          0,  0,  0,  0]], device='cuda:0')"
      ]
     },
     "execution_count": 144,
     "metadata": {},
     "output_type": "execute_result"
    }
   ],
   "source": [
    "seq = encode(\"éléonore,boulangère,fille,25\")\n",
    "seq = seq + [0] * (block_size - len(seq))\n",
    "seq = torch.tensor([seq], device=device, dtype=torch.long)\n",
    "seq"
   ]
  },
  {
   "cell_type": "code",
   "execution_count": 145,
   "metadata": {},
   "outputs": [
    {
     "data": {
      "text/plain": [
       "tensor([[0.3570]], device='cuda:0', grad_fn=<SigmoidBackward0>)"
      ]
     },
     "execution_count": 145,
     "metadata": {},
     "output_type": "execute_result"
    }
   ],
   "source": [
    "nn.Sigmoid()(model(seq))"
   ]
  },
  {
   "cell_type": "code",
   "execution_count": 104,
   "metadata": {},
   "outputs": [],
   "source": [
    "from torcheval.metrics import BinaryF1Score, BinaryAccuracy\n",
    "\n",
    "def get_f1_score(model, dataloader):\n",
    "    model.eval()\n",
    "\n",
    "    f1_score = BinaryF1Score()\n",
    "    accuracy = BinaryAccuracy()\n",
    "\n",
    "    with torch.no_grad():\n",
    "        for data, target in dataloader:\n",
    "            logits = model(data)\n",
    "            probs = nn.Sigmoid()(logits.squeeze())\n",
    "            pred = (probs > 0.5).int()\n",
    "            f1_score.update(pred, target)\n",
    "            accuracy.update(pred, target)\n",
    "\n",
    "    return {\n",
    "        \"f1_score\": f1_score.compute().item(),\n",
    "        \"accuracy\": accuracy.compute().item(),\n",
    "    }"
   ]
  },
  {
   "cell_type": "code",
   "execution_count": 107,
   "metadata": {},
   "outputs": [
    {
     "data": {
      "text/plain": [
       "{'f1_score': 0.875, 'accuracy': 0.9200000166893005}"
      ]
     },
     "execution_count": 107,
     "metadata": {},
     "output_type": "execute_result"
    }
   ],
   "source": [
    "get_f1_score(model, test_dataloader)"
   ]
  },
  {
   "cell_type": "markdown",
   "metadata": {},
   "source": [
    "## Combining the two?"
   ]
  },
  {
   "cell_type": "code",
   "execution_count": null,
   "metadata": {},
   "outputs": [],
   "source": [
    "class MelangeModel(nn.Module):\n",
    "    def __init__(self, simple_model, n_classes):\n",
    "        super().__init__()\n",
    "        self.\n",
    "\n",
    "\n",
    "    def forward(self, idx):\n",
    "        B, T = idx.shape\n",
    "        tok_emb = self.token_embedding_table(idx) # (B,T,C)\n",
    "        pos_emb = self.position_embedding_table(torch.arange(T, device=device)) # (T,C)\n",
    "        x = tok_emb + pos_emb # (B,T,C)\n",
    "\n",
    "        for block in self.attention_blocks:\n",
    "            x = block(x) # (B, T, C)\n",
    "\n",
    "        x = x.mean(dim=1) # (B, C)\n",
    "\n",
    "        logits = self.classifier(x) # (B, n_classes)\n",
    "\n",
    "        return logits\n",
    "        "
   ]
  }
 ],
 "metadata": {
  "kernelspec": {
   "display_name": "venv",
   "language": "python",
   "name": "python3"
  },
  "language_info": {
   "codemirror_mode": {
    "name": "ipython",
    "version": 3
   },
   "file_extension": ".py",
   "mimetype": "text/x-python",
   "name": "python",
   "nbconvert_exporter": "python",
   "pygments_lexer": "ipython3",
   "version": "3.12.2"
  }
 },
 "nbformat": 4,
 "nbformat_minor": 2
}
